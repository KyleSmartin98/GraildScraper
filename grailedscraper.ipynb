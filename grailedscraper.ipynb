{
  "nbformat": 4,
  "nbformat_minor": 0,
  "metadata": {
    "colab": {
      "name": "grailedscraper.ipynb",
      "provenance": [],
      "collapsed_sections": [],
      "mount_file_id": "1-P1JiSLsnIis6GsHDjOsDp5g2Kxx_vk_",
      "authorship_tag": "ABX9TyPAIZsf1m182hRXxxWcZ+H2",
      "include_colab_link": true
    },
    "kernelspec": {
      "name": "python3",
      "display_name": "Python 3"
    }
  },
  "cells": [
    {
      "cell_type": "markdown",
      "metadata": {
        "id": "view-in-github",
        "colab_type": "text"
      },
      "source": [
        "<a href=\"https://colab.research.google.com/github/KyleSmartin98/GraildScraper/blob/main/grailedscraper.ipynb\" target=\"_parent\"><img src=\"https://colab.research.google.com/assets/colab-badge.svg\" alt=\"Open In Colab\"/></a>"
      ]
    },
    {
      "cell_type": "code",
      "metadata": {
        "id": "ukGgUO54YUwl",
        "cellView": "form"
      },
      "source": [
        "#@title Run to Install Libraries & Dependencies Before Running Scraper\n",
        "%%capture\n",
        "#Install all libraries \n",
        "!pip install beautifulsoup4\n",
        "#!pip install requests_html \n",
        "!pip install kora -q"
      ],
      "execution_count": null,
      "outputs": []
    },
    {
      "cell_type": "code",
      "metadata": {
        "cellView": "form",
        "id": "FF_w8ObTzkOr"
      },
      "source": [
        "#@title Grailed Scraper Proof of Concept\n",
        "url = \"https://www.grailed.com/sold/sQESTzLsvQ\" #@param {type:\"string\"}\n",
        "New_CSV = \"Sold_RO_Hightop_Sneaker.csv\" #@param {type:\"string\"}\n",
        "\n"
      ],
      "execution_count": null,
      "outputs": []
    },
    {
      "cell_type": "code",
      "metadata": {
        "colab": {
          "base_uri": "https://localhost:8080/",
          "height": 453
        },
        "cellView": "code",
        "id": "xAIkKcF7ZlxO",
        "outputId": "893051b8-7ec7-4b7f-bc34-a14dd06da21a"
      },
      "source": [
        "#@title Double Click to View Code \n",
        "\n",
        "from kora.selenium import wd\n",
        "import time\n",
        "import csv\n",
        "import pandas as pd\n",
        "\n",
        "wd.get(url)\n",
        "\n",
        "scroll_count = round(200 / 40) + 1\n",
        "for i in range(scroll_count):\n",
        "    wd.execute_script(\"window.scrollTo(0,document.body.scrollHeight)\")\n",
        "    time.sleep(2)\n",
        "\n",
        "time.sleep(3)\n",
        "\n",
        "titles = wd.find_elements_by_css_selector(\"p.listing-title\")\n",
        "prices = wd.find_elements_by_css_selector(\"p.sub-title.sold-price\")\n",
        "sizes = wd.find_elements_by_css_selector(\"p.listing-size.sub-title\")\n",
        "sold = wd.find_elements_by_css_selector(\"span.date-ago\")\n",
        "\n",
        "data = [titles, prices, sizes, sold]\n",
        "\n",
        "data = [list(map(lambda element: element.text, arr)) for arr in data]\n",
        "\n",
        "with open(New_CSV, 'w') as file:\n",
        "    writer = csv.writer(file)\n",
        "    j = 0\n",
        "    while j < len(titles):\n",
        "        row = []\n",
        "        for i in range(len(data)):\n",
        "            row.append(data[i][j])\n",
        "        writer.writerow(row)\n",
        "        j += 1\n",
        "df = pd.read_csv(New_CSV, names = ['Title', 'Sold Price', 'Size', 'Sold Date'])\n",
        "df.to_csv(New_CSV)\n",
        "!cp #*file name* \"drive/My Drive/\" #Must rename to file here to save in google drive.\n",
        "df \n"
      ],
      "execution_count": null,
      "outputs": [
        {
          "output_type": "stream",
          "text": [
            "cp: missing file operand\n",
            "Try 'cp --help' for more information.\n"
          ],
          "name": "stdout"
        },
        {
          "output_type": "execute_result",
          "data": {
            "text/html": [
              "<div>\n",
              "<style scoped>\n",
              "    .dataframe tbody tr th:only-of-type {\n",
              "        vertical-align: middle;\n",
              "    }\n",
              "\n",
              "    .dataframe tbody tr th {\n",
              "        vertical-align: top;\n",
              "    }\n",
              "\n",
              "    .dataframe thead th {\n",
              "        text-align: right;\n",
              "    }\n",
              "</style>\n",
              "<table border=\"1\" class=\"dataframe\">\n",
              "  <thead>\n",
              "    <tr style=\"text-align: right;\">\n",
              "      <th></th>\n",
              "      <th>Title</th>\n",
              "      <th>Sold Price</th>\n",
              "      <th>Size</th>\n",
              "      <th>Sold Date</th>\n",
              "    </tr>\n",
              "  </thead>\n",
              "  <tbody>\n",
              "    <tr>\n",
              "      <th>0</th>\n",
              "      <td>Island dunks black suede</td>\n",
              "      <td>$260</td>\n",
              "      <td>9.0</td>\n",
              "      <td>Sold about 1 hour ago</td>\n",
              "    </tr>\n",
              "    <tr>\n",
              "      <th>1</th>\n",
              "      <td>Rick Owens Drkshdw Contrast Stitch high top sn...</td>\n",
              "      <td>$460</td>\n",
              "      <td>8.0</td>\n",
              "      <td>Sold about 11 hours ago</td>\n",
              "    </tr>\n",
              "    <tr>\n",
              "      <th>2</th>\n",
              "      <td>Rick Owens Mastodon High Leather Sneakers</td>\n",
              "      <td>$400</td>\n",
              "      <td>10.0</td>\n",
              "      <td>Sold about 12 hours ago</td>\n",
              "    </tr>\n",
              "    <tr>\n",
              "      <th>3</th>\n",
              "      <td>Rick Owens Ramones</td>\n",
              "      <td>$379</td>\n",
              "      <td>8.0</td>\n",
              "      <td>Sold about 15 hours ago</td>\n",
              "    </tr>\n",
              "    <tr>\n",
              "      <th>4</th>\n",
              "      <td>rick Owens mainline boots size 37.5 us women 7.5</td>\n",
              "      <td>$700</td>\n",
              "      <td>6.5</td>\n",
              "      <td>Sold about 16 hours ago</td>\n",
              "    </tr>\n",
              "    <tr>\n",
              "      <th>...</th>\n",
              "      <td>...</td>\n",
              "      <td>...</td>\n",
              "      <td>...</td>\n",
              "      <td>...</td>\n",
              "    </tr>\n",
              "    <tr>\n",
              "      <th>275</th>\n",
              "      <td>Rick Owens X Birkenstock black ROTTERDAM boots...</td>\n",
              "      <td>$225</td>\n",
              "      <td>8.5</td>\n",
              "      <td>Sold 26 days ago</td>\n",
              "    </tr>\n",
              "    <tr>\n",
              "      <th>276</th>\n",
              "      <td>(35)Rick owens drkshdw high ramones(35.</td>\n",
              "      <td>$668</td>\n",
              "      <td>5.0</td>\n",
              "      <td>Sold 26 days ago</td>\n",
              "    </tr>\n",
              "    <tr>\n",
              "      <th>277</th>\n",
              "      <td>Ramones High</td>\n",
              "      <td>$595</td>\n",
              "      <td>13.0</td>\n",
              "      <td>Sold 26 days ago</td>\n",
              "    </tr>\n",
              "    <tr>\n",
              "      <th>278</th>\n",
              "      <td>Rick Owens Ramone High 41</td>\n",
              "      <td>$450</td>\n",
              "      <td>8.0</td>\n",
              "      <td>Sold 26 days ago</td>\n",
              "    </tr>\n",
              "    <tr>\n",
              "      <th>279</th>\n",
              "      <td>(36 Rick owens drkshdw double bumper(36)</td>\n",
              "      <td>$772</td>\n",
              "      <td>5.0</td>\n",
              "      <td>Sold 26 days ago</td>\n",
              "    </tr>\n",
              "  </tbody>\n",
              "</table>\n",
              "<p>280 rows × 4 columns</p>\n",
              "</div>"
            ],
            "text/plain": [
              "                                                 Title  ...                Sold Date\n",
              "0                             Island dunks black suede  ...    Sold about 1 hour ago\n",
              "1    Rick Owens Drkshdw Contrast Stitch high top sn...  ...  Sold about 11 hours ago\n",
              "2            Rick Owens Mastodon High Leather Sneakers  ...  Sold about 12 hours ago\n",
              "3                                   Rick Owens Ramones  ...  Sold about 15 hours ago\n",
              "4     rick Owens mainline boots size 37.5 us women 7.5  ...  Sold about 16 hours ago\n",
              "..                                                 ...  ...                      ...\n",
              "275  Rick Owens X Birkenstock black ROTTERDAM boots...  ...         Sold 26 days ago\n",
              "276            (35)Rick owens drkshdw high ramones(35.  ...         Sold 26 days ago\n",
              "277                                       Ramones High  ...         Sold 26 days ago\n",
              "278                          Rick Owens Ramone High 41  ...         Sold 26 days ago\n",
              "279           (36 Rick owens drkshdw double bumper(36)  ...         Sold 26 days ago\n",
              "\n",
              "[280 rows x 4 columns]"
            ]
          },
          "metadata": {
            "tags": []
          },
          "execution_count": 7
        }
      ]
    }
  ]
}